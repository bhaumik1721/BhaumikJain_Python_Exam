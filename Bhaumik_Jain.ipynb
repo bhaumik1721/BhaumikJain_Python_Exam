{
 "cells": [
  {
   "cell_type": "code",
   "execution_count": 79,
   "id": "78289663-fd3a-4437-82c4-87d7e244f9d7",
   "metadata": {},
   "outputs": [],
   "source": [
    "def is_pangram(s):\n",
    "    list_p=[]\n",
    "    list_a=[\"a\",\"b\",\"c\",\"d\",\"e\",\"f\",\"g\",\"h\",\"i\",\"j\",\"k\",\"l\",\"m\",\"n\",\"o\",\"p\",\"q\",\"r\",\"s\",\"t\",\"u\",\"v\",\"w\",\"x\",\"y\",\"z\"]\n",
    "    for i in s:\n",
    "        list_p.append(i)\n",
    "    if sorted(list_p) == list_a:\n",
    "        a = str(\"\")\n",
    "    else :\n",
    "       a = (set(list_a).difference(set(list_p)))\n",
    "\n",
    "    #return str(sorted(a))\n",
    "    print(\"Missing characters are:\",str(sorted(a)))\n",
    "\n",
    "        \n",
    "        "
   ]
  },
  {
   "cell_type": "code",
   "execution_count": 80,
   "id": "834320fd-9bd9-4163-a1e9-f5fe433d6af4",
   "metadata": {},
   "outputs": [
    {
     "name": "stdout",
     "output_type": "stream",
     "text": [
      "Missing characters are: ['a', 'd', 'g', 'l', 'y', 'z']\n"
     ]
    }
   ],
   "source": [
    "(is_pangram(\"the quick brown fox jumps over the\"))"
   ]
  },
  {
   "cell_type": "code",
   "execution_count": null,
   "id": "aef52293-6418-46f4-a262-71cefe821dc2",
   "metadata": {},
   "outputs": [],
   "source": []
  },
  {
   "cell_type": "markdown",
   "id": "a8210d93-9e66-4cf2-b2a9-9f7753a290f5",
   "metadata": {},
   "source": [
    "Inventory Management System"
   ]
  },
  {
   "cell_type": "code",
   "execution_count": 99,
   "id": "02f76916-e0a0-49f1-bb86-db3675c0c541",
   "metadata": {},
   "outputs": [
    {
     "ename": "TypeError",
     "evalue": "TextIOWrapper.write() takes no keyword arguments",
     "output_type": "error",
     "traceback": [
      "\u001b[1;31m---------------------------------------------------------------------------\u001b[0m",
      "\u001b[1;31mTypeError\u001b[0m                                 Traceback (most recent call last)",
      "Cell \u001b[1;32mIn[99], line 2\u001b[0m\n\u001b[0;32m      1\u001b[0m inventory \u001b[38;5;241m=\u001b[39m \u001b[38;5;28mopen\u001b[39m(\u001b[38;5;124m\"\u001b[39m\u001b[38;5;124minventory_data.txt\u001b[39m\u001b[38;5;124m\"\u001b[39m,\u001b[38;5;124m\"\u001b[39m\u001b[38;5;124mw\u001b[39m\u001b[38;5;124m\"\u001b[39m)\n\u001b[1;32m----> 2\u001b[0m \u001b[43minventory\u001b[49m\u001b[38;5;241;43m.\u001b[39;49m\u001b[43mwrite\u001b[49m\u001b[43m(\u001b[49m\u001b[43mproduct_name1\u001b[49m\u001b[43m \u001b[49m\u001b[38;5;241;43m=\u001b[39;49m\u001b[43m \u001b[49m\u001b[38;5;124;43m\"\u001b[39;49m\u001b[38;5;124;43mTelevision\u001b[39;49m\u001b[38;5;124;43m\"\u001b[39;49m\u001b[43m,\u001b[49m\n\u001b[0;32m      3\u001b[0m \u001b[43mcategory1\u001b[49m\u001b[43m \u001b[49m\u001b[38;5;241;43m=\u001b[39;49m\u001b[43m \u001b[49m\u001b[38;5;124;43m\"\u001b[39;49m\u001b[38;5;124;43mElectronics\u001b[39;49m\u001b[38;5;124;43m\"\u001b[39;49m\u001b[43m,\u001b[49m\n\u001b[0;32m      4\u001b[0m \u001b[43mprice1\u001b[49m\u001b[43m \u001b[49m\u001b[38;5;241;43m=\u001b[39;49m\u001b[43m \u001b[49m\u001b[38;5;241;43m11400\u001b[39;49m\u001b[43m,\u001b[49m\n\u001b[0;32m      5\u001b[0m \u001b[43mquantity1\u001b[49m\u001b[43m \u001b[49m\u001b[38;5;241;43m=\u001b[39;49m\u001b[43m \u001b[49m\u001b[38;5;241;43m40\u001b[39;49m\u001b[43m,\u001b[49m\n\u001b[0;32m      6\u001b[0m \u001b[43msold1\u001b[49m\u001b[43m \u001b[49m\u001b[38;5;241;43m=\u001b[39;49m\u001b[43m \u001b[49m\u001b[38;5;241;43m30\u001b[39;49m\u001b[43m)\u001b[49m\n",
      "\u001b[1;31mTypeError\u001b[0m: TextIOWrapper.write() takes no keyword arguments"
     ]
    }
   ],
   "source": [
    "inventory = open(\"inventory_data.txt\",\"w\")\n",
    "inventory.write(product_name1 = \"Television\",\n",
    "category1 = \"Electronics\",\n",
    "price1 = 11400,\n",
    "quantity1 = 40,\n",
    "sold1 = 30)\n",
    "\n"
   ]
  },
  {
   "cell_type": "code",
   "execution_count": 94,
   "id": "beaeed28-b05a-4239-bcff-53c098cb596e",
   "metadata": {},
   "outputs": [],
   "source": [
    "def validate_product(price,quantity):\n",
    "    if price > 0:\n",
    "        print(\"Correct Price\")\n",
    "    else:\n",
    "        print(\"Wrong price\")\n",
    "    if quantity > 0:\n",
    "        print(\"quantity is correct\")\n",
    "    else :\n",
    "        print(\"please check the quantity \")\n",
    "    return    \n",
    "        "
   ]
  },
  {
   "cell_type": "code",
   "execution_count": 96,
   "id": "ba3bde7b-fbb7-4b97-a133-a7748b55d550",
   "metadata": {},
   "outputs": [
    {
     "name": "stdout",
     "output_type": "stream",
     "text": [
      "Correct Price\n",
      "quantity is correct\n"
     ]
    }
   ],
   "source": [
    "validate_product(1140,30)"
   ]
  },
  {
   "cell_type": "code",
   "execution_count": 97,
   "id": "68203b16-4cf6-4e7b-8f09-50a33ce9c7c3",
   "metadata": {},
   "outputs": [],
   "source": [
    "def calculate_total_sales(products):\n",
    "    return sold*price\n",
    "    \n"
   ]
  },
  {
   "cell_type": "code",
   "execution_count": null,
   "id": "48486731-a443-498a-a4f4-41ae22580e59",
   "metadata": {},
   "outputs": [],
   "source": []
  },
  {
   "cell_type": "code",
   "execution_count": null,
   "id": "5e31aeb6-6bf2-45cd-9aaf-e71b0955ca59",
   "metadata": {},
   "outputs": [],
   "source": [
    "def generate_report(product_name,total_sales):\n",
    "    inventory_report = open(\"inventory_report.txt\",\"a+\")\n",
    "    if product_name == \"television\":\n",
    "        sales = sold1*price1\n",
    "        category = \"Electronics\"\n",
    "        price = price1\n",
    "        quantity_remaining = quantity1\n",
    "        \n",
    "    elif product_name == \"Shirts\":\n",
    "        sales = sold2*price2\n",
    "        category = \"Clothing\"\n",
    "        price = price2\n",
    "        quantity_remaining = quantity2  \n",
    "    elif product_name == \"knife\":\n",
    "        sales = sold3*price3\n",
    "        category = \"groceries\"\n",
    "        price = price3\n",
    "        quantity_remaining = quantity3\n",
    "        \n",
    "    \n",
    "    "
   ]
  }
 ],
 "metadata": {
  "kernelspec": {
   "display_name": "Python 3 (ipykernel)",
   "language": "python",
   "name": "python3"
  },
  "language_info": {
   "codemirror_mode": {
    "name": "ipython",
    "version": 3
   },
   "file_extension": ".py",
   "mimetype": "text/x-python",
   "name": "python",
   "nbconvert_exporter": "python",
   "pygments_lexer": "ipython3",
   "version": "3.11.4"
  }
 },
 "nbformat": 4,
 "nbformat_minor": 5
}
